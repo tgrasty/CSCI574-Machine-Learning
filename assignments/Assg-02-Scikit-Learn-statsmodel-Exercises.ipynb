{
 "cells": [
  {
   "cell_type": "markdown",
   "metadata": {},
   "source": [
    "# Assignment 02: Scikit Learn Basic Regression and Classification\n",
    "\n",
    "**Due Date:** Friday 9/18/2020 (by midnight)\n",
    "\n",
    "\n",
    "## Introduction \n",
    "\n",
    "In this exercise we will be performing a regression and classification task using the Scikit learn framework, and the Python statsmodel library.  You should work through the tutorial on using scikit-learn and statsmodel before doing this assignment, as well as work on the materials from our units on regression and classification tasks.\n",
    "\n",
    "For the first part of this assignment, I recommend looking through the following tutorials on using\n",
    "Scikit Learn and the statsmodel library for linear regression:\n",
    "\n",
    "[A Beginners guide to Linear Regression in Python with Scikit-Learn](https://towardsdatascience.com/a-beginners-guide-to-linear-regression-in-python-with-scikit-learn-83a8f7ae2b4f)\n",
    "\n",
    "[Use statsmodels to Perform Linear Regression in Python](https://datatofish.com/statsmodels-linear-regression/)\n",
    "\n",
    "I am using this material as a reference for the first part of this assignment."
   ]
  },
  {
   "cell_type": "markdown",
   "metadata": {},
   "source": [
    "**Please fill these in before submitting, just in case I accidentally mix up file names while grading**:\n",
    "\n",
    "Name: Joe Student\n",
    "\n",
    "CWID-5: (Last 5 digits of cwid)"
   ]
  },
  {
   "cell_type": "code",
   "execution_count": 1,
   "metadata": {
    "ExecuteTime": {
     "end_time": "2019-09-30T18:55:15.339855Z",
     "start_time": "2019-09-30T18:55:14.517211Z"
    }
   },
   "outputs": [],
   "source": [
    "import numpy as np\n",
    "import matplotlib.pyplot as plt\n",
    "import pandas as pd\n",
    "import seaborn as sns\n",
    "\n",
    "# By convention, we often just import the specific classes/functions\n",
    "# from scikit-learn we will need to train a model and perform prediction.\n",
    "# Here we include all of the classes and functions you should need for this\n",
    "# assignment from the sklearn library, but there could be other methods you might\n",
    "# want to try or would be useful to the way you approach the problem, so feel free\n",
    "# to import others you might need or want to try\n",
    "from sklearn.linear_model import LinearRegression\n",
    "from sklearn.linear_model import LogisticRegression\n",
    "from sklearn.model_selection import train_test_split\n",
    "from sklearn.metrics import confusion_matrix\n",
    "from sklearn.metrics import precision_recall_curve\n",
    "\n",
    "# statsmodels has an api, it is often imported as sm by convention\n",
    "import statsmodels.api as sm\n",
    "\n",
    "%matplotlib inline"
   ]
  },
  {
   "cell_type": "code",
   "execution_count": 2,
   "metadata": {
    "ExecuteTime": {
     "end_time": "2019-09-30T18:55:15.345630Z",
     "start_time": "2019-09-30T18:55:15.341203Z"
    }
   },
   "outputs": [],
   "source": [
    "plt.rcParams['figure.figsize'] = (10, 8) # set default figure size, 8in by 6in"
   ]
  },
  {
   "cell_type": "markdown",
   "metadata": {},
   "source": [
    "## Linear Regression with One Variable\n",
    "--------\n"
   ]
  },
  {
   "cell_type": "markdown",
   "metadata": {},
   "source": [
    "### Scikit-Learn LinearRegression model\n",
    "\n",
    "Load and plot the house pricing data of 1 feature from the file named \"data/assg-02-house-data.csv\" using Pandas to load in the\n",
    "csv file.  Plot using a basic matplotlib figure the points in the dataset. This data set has profit (y or dependent\n",
    "variable) for a food truck business, specified in 10's of $1000. \n",
    "The profit is the variable we want to predict (the regression variable).\n",
    "Profit is a function of the population size (x or independent variable),\n",
    "which here is expressed in 10000s people (e.g. pupulation 10 = 100,000 people)."
   ]
  },
  {
   "cell_type": "code",
   "execution_count": 3,
   "metadata": {
    "ExecuteTime": {
     "end_time": "2019-09-30T18:55:15.492612Z",
     "start_time": "2019-09-30T18:55:15.347133Z"
    }
   },
   "outputs": [],
   "source": [
    "# load the assignment 02 housing price linear regression data here\n"
   ]
  },
  {
   "cell_type": "code",
   "execution_count": 4,
   "metadata": {
    "ExecuteTime": {
     "end_time": "2019-09-30T18:55:16.041849Z",
     "start_time": "2019-09-30T18:55:15.494074Z"
    }
   },
   "outputs": [],
   "source": [
    "# plot the data here, matplotlib example\n"
   ]
  },
  {
   "cell_type": "markdown",
   "metadata": {},
   "source": [
    "The tutorial shows an example of actually building a regression model where data is held back from the training\n",
    "so that we can evaluate the accuracy of our predictive model.  We will try that next.  First of all,\n",
    "fit a linear regression model to all of the data using the scikit-learn `LinearRegression` object.\n",
    "\n",
    "Once you fit the model, show what the slope and intercept (e.g. the fitted parameters\n",
    "of the model) were that were determined to be the\n",
    "best fit model parameters (intercept and coefficients of the model).  Also use the score function\n",
    "to display the $R^2$ score of the fitted model."
   ]
  },
  {
   "cell_type": "code",
   "execution_count": 5,
   "metadata": {
    "ExecuteTime": {
     "end_time": "2019-09-30T18:55:16.063525Z",
     "start_time": "2019-09-30T18:55:16.045697Z"
    }
   },
   "outputs": [],
   "source": [
    "# fit the linear regression model to all of the data\n"
   ]
  },
  {
   "cell_type": "code",
   "execution_count": 6,
   "metadata": {
    "ExecuteTime": {
     "end_time": "2019-09-30T18:55:16.161813Z",
     "start_time": "2019-09-30T18:55:16.076475Z"
    }
   },
   "outputs": [],
   "source": [
    "# retrieve the intercept and slope\n"
   ]
  },
  {
   "cell_type": "code",
   "execution_count": 7,
   "metadata": {},
   "outputs": [],
   "source": [
    "# use the score() function to display the models R^2 fit\n"
   ]
  },
  {
   "cell_type": "markdown",
   "metadata": {},
   "source": [
    "You should compare your intercept and slope you determine here using Scikit Learn with the following.\n",
    "\n",
    "The slope and intercept fitted parameters you should find are:\n",
    "\n",
    "intercept: -3.89578088\n",
    "\n",
    "slope: 1.19303364"
   ]
  },
  {
   "cell_type": "markdown",
   "metadata": {},
   "source": [
    "As shown in the our lecture notebooks, use the predict() method of your Scikit Learn regression model to predict\n",
    "each value of our x data features"
   ]
  },
  {
   "cell_type": "code",
   "execution_count": 8,
   "metadata": {
    "ExecuteTime": {
     "end_time": "2019-09-30T18:55:16.234533Z",
     "start_time": "2019-09-30T18:55:16.162839Z"
    }
   },
   "outputs": [],
   "source": [
    "# using predict() from scikit-learn find the predicted or hypothesized profit for each of the model populations\n"
   ]
  },
  {
   "cell_type": "markdown",
   "metadata": {},
   "source": [
    "Now we can plot the determined linear fit line given by Scikit Learn to our data"
   ]
  },
  {
   "cell_type": "code",
   "execution_count": 9,
   "metadata": {
    "ExecuteTime": {
     "end_time": "2019-09-30T18:55:16.454971Z",
     "start_time": "2019-09-30T18:55:16.236141Z"
    }
   },
   "outputs": [],
   "source": [
    "# plot the fitted line using the predict() method from the LinearRegression object\n"
   ]
  },
  {
   "cell_type": "markdown",
   "metadata": {},
   "source": [
    "### statsmodels Linear Regression\n",
    "\n",
    "In contrast to the scikit-learn library, the python statsmodel library is primarily geared towards doing statistical\n",
    "analysis of data, similar to a stats package like using SPSS or R.  You can perform a linear regression on a data\n",
    "set using the statsmodel package, and get much more information about the goodness of the fit from the\n",
    "constructed model.\n",
    "\n",
    "In the next cell, create a model using statsmodels OLS (ordinary least squared fit) function, fit the model, and use the summary() function\n",
    "to get information about the fit."
   ]
  },
  {
   "cell_type": "code",
   "execution_count": 10,
   "metadata": {
    "ExecuteTime": {
     "end_time": "2019-09-30T18:59:24.669593Z",
     "start_time": "2019-09-30T18:59:24.667528Z"
    }
   },
   "outputs": [],
   "source": [
    "# load the data from our assignment 02 linear regression problem again if needed\n"
   ]
  },
  {
   "cell_type": "markdown",
   "metadata": {},
   "source": [
    "When building a model of data, like a linear regression model, there are terms or parameters that the model\n",
    "fits to the data.   One of these terms is known as the **bias** term.  We will learn more about what this \n",
    "term is in the coming weeks.  \n",
    "\n",
    "The Scikit-learn library assumes you have not represented the bias term in the `X` data that is being fit.\n",
    "But the statsmodel library does not make this assumption.  So there is actually an additional step you\n",
    "need to perform before fitting, which is to add in the constant bias term to the `X` data being fit."
   ]
  },
  {
   "cell_type": "code",
   "execution_count": 11,
   "metadata": {
    "ExecuteTime": {
     "end_time": "2019-09-30T18:55:17.007580Z",
     "start_time": "2019-09-30T18:55:16.921269Z"
    }
   },
   "outputs": [],
   "source": [
    "# unlike for sklearn library, we actually have to add the dummy feature by hand to \n",
    "# represent the intercept feature, it is not assumed automatically by OLS\n",
    "# use the add_constant() method to add a column to represent our intercept coefficient in the model.\n"
   ]
  },
  {
   "cell_type": "code",
   "execution_count": 12,
   "metadata": {},
   "outputs": [],
   "source": [
    "# use the statsmodels summary method to get a summary of the statistical fit of your linear regression.\n",
    "# Check the fitted parameters to the results from scikit-learn before.\n"
   ]
  },
  {
   "cell_type": "markdown",
   "metadata": {},
   "source": [
    "In the summary you should note that you get the same coefficients (const and x1) as we have determined using \n",
    "scikit-learn previously.  The $R^2$ measure of the fit is also the same\n",
    "as what we got for fitting all of the data for the sklearn model.  \n",
    "\n",
    "The rest of the summary information are some statistical information about how well the model fits\n",
    "the data.  The data in the table under the [0.025 0.975] columns give a 95% confidence interval for\n",
    "the coefficients.  For example from the measure of the noise and fit we are 95% confident that the true\n",
    "coefficient for the x1 parameter (the slope of the line) is somewhere between 1.035 and 1.351.  The P>|t| measure is also\n",
    "important here.  This is a P-value that measure how surprised we would be to see this fit if there was\n",
    "actually no linear relationship between the independent variable and the dependent variable.  Both of these\n",
    "measures are basically 0, which means we would be very surprised to see this fit if there was no linear\n",
    "relationship between the features and the dependent variable.  When the P value here is large (usually\n",
    "a cutoff of 0.05 is used), then that means we are not so surprised to see the result if there was no\n",
    "linear relationship.\n"
   ]
  },
  {
   "cell_type": "markdown",
   "metadata": {},
   "source": [
    "## Logistic Regression for a Binary Classifier\n",
    "------"
   ]
  },
  {
   "cell_type": "markdown",
   "metadata": {},
   "source": [
    "### scikit-learn LogisticRegression model\n",
    "\n",
    "Load and plot the exam score data with binary class labels of accepted/not accepted.\n",
    "This data is found in a file named \"data/assg-02-exam-data.csv\". Plot the data using\n",
    "a standard Matplotlib scatter plot to visualize it.  This data set has 2 exam scores (exam1 and exam2),\n",
    "for a number of students, and a binary category for each student of whether they were admitted\n",
    "or not to a university degree program.\n",
    "\n",
    "[Logistic Regression using Python (scikit-learn)](https://towardsdatascience.com/logistic-regression-using-python-sklearn-numpy-mnist-handwriting-recognition-matplotlib-a6b31e2b166a)\n",
    "\n",
    "[Logistic Regression in Python Using statsmodels](http://blog.yhat.com/posts/logistic-regression-python-rodeo.html)"
   ]
  },
  {
   "cell_type": "code",
   "execution_count": 13,
   "metadata": {
    "ExecuteTime": {
     "end_time": "2019-09-30T18:55:17.084219Z",
     "start_time": "2019-09-30T18:55:17.014377Z"
    }
   },
   "outputs": [],
   "source": [
    "# load the data for the logistic classification problem here\n"
   ]
  },
  {
   "cell_type": "code",
   "execution_count": 14,
   "metadata": {
    "ExecuteTime": {
     "end_time": "2019-09-30T18:55:17.420043Z",
     "start_time": "2019-09-30T18:55:17.085204Z"
    }
   },
   "outputs": [],
   "source": [
    "# replot the exam1/exam2 data indicating the binary categories using marker type again here for reference\n",
    "\n",
    "# plot not admitted students first\n",
    "\n",
    "# plot the admitted students"
   ]
  },
  {
   "cell_type": "markdown",
   "metadata": {},
   "source": [
    "Now we will use Scikit Learn to fit a model again, but of course we will fit a binary logistic regression classifier\n",
    "to our data to find the best decision boundary between the two classes.\n",
    "\n",
    "In the next cell, create the Scikit Learn logistic regression model and fit it to our data."
   ]
  },
  {
   "cell_type": "code",
   "execution_count": 15,
   "metadata": {
    "ExecuteTime": {
     "end_time": "2019-09-30T18:55:17.431356Z",
     "start_time": "2019-09-30T18:55:17.421301Z"
    }
   },
   "outputs": [],
   "source": [
    "# Create the scikit-learn LogisticRegression instance here\n",
    "\n",
    "# and fit your model to the college acceptance using exam scores data here\n"
   ]
  },
  {
   "cell_type": "markdown",
   "metadata": {},
   "source": [
    "For a binary classifier with 2 features like this, there are 3 parameters in the model,\n",
    "the intercept, and the parameters for exam1 and exam2 that were fit to define the decision boundary.\n",
    "\n",
    "You should get close to the following parameters, where the first\n",
    "parameter is the intercept, and the second and third are the theta parameters fit for the exam1 and exam2\n",
    "feature respectively:\n",
    "\n",
    "[-25.05219314   0.20535491   0.2005838 ]\n",
    "\n",
    "In the model returned by Scikit Learn, the intercept_ should correspond and match the intercept value,\n",
    "and the coef_ should match the exam1 and exam2 coefficient parameters."
   ]
  },
  {
   "cell_type": "code",
   "execution_count": 16,
   "metadata": {
    "ExecuteTime": {
     "end_time": "2019-09-30T18:55:17.496138Z",
     "start_time": "2019-09-30T18:55:17.434016Z"
    }
   },
   "outputs": [],
   "source": [
    "# display the intercept and the model coefficients for the exam1 and exam2 feature here\n"
   ]
  },
  {
   "cell_type": "markdown",
   "metadata": {},
   "source": [
    "The parameters in this case might not exactly match because of the differences in the optimization meta-parameters, but\n",
    "they will be close and essentially form almost the same decision boundary.\n",
    "\n",
    "As we did in the example lectures this week, for a 2 parameter set of data we can use the intercept and coefficients to\n",
    "visualize the decision boundary specified by the fitted logistic regression model."
   ]
  },
  {
   "cell_type": "code",
   "execution_count": 17,
   "metadata": {
    "ExecuteTime": {
     "end_time": "2019-09-30T18:55:17.797599Z",
     "start_time": "2019-09-30T18:55:17.497343Z"
    }
   },
   "outputs": [],
   "source": [
    "# plot the decision boundary line found by the scikit-learn logistic classification\n"
   ]
  },
  {
   "cell_type": "markdown",
   "metadata": {},
   "source": [
    "Then finally, as we showed in our lecture materials from chapter 3, calculate the confusion matrix results of your trained classifier\n",
    "on the training data.  Also plot the precision and recall scores, using either two separate lines, one for each, or plot the precision vs. recall against\n",
    "one another.  We showed both in our lecture and textbook readings for this week."
   ]
  },
  {
   "cell_type": "code",
   "execution_count": 18,
   "metadata": {},
   "outputs": [],
   "source": [
    "from sklearn.metrics import confusion_matrix\n",
    "\n",
    "# calculate predictions for the x inputs\n",
    "\n",
    "# display the confusion matrix"
   ]
  },
  {
   "cell_type": "code",
   "execution_count": 19,
   "metadata": {},
   "outputs": [],
   "source": [
    "from sklearn.metrics import precision_recall_curve\n",
    "\n",
    "# get the decision scores\n",
    "\n",
    "# calculate precision and recall \n"
   ]
  },
  {
   "cell_type": "code",
   "execution_count": 20,
   "metadata": {},
   "outputs": [],
   "source": [
    "# plot precision and recall curves\n"
   ]
  },
  {
   "cell_type": "markdown",
   "metadata": {},
   "source": [
    "### statsmodels Logistic Regression\n",
    "\n",
    "Likewise use the statsmodels library to redo the Logistic Regression classification of the adming/not admit\n",
    "data set once again.  In the following cells, load the data, add in the constant column needed by statsmodels\n",
    "to fit the model using the intercept parameter, then create an instance and fit the model, and show a summary\n",
    "of your logistic regression results."
   ]
  },
  {
   "cell_type": "code",
   "execution_count": 21,
   "metadata": {
    "ExecuteTime": {
     "end_time": "2019-09-30T18:55:18.471417Z",
     "start_time": "2019-09-30T18:55:18.462004Z"
    }
   },
   "outputs": [],
   "source": [
    "# get fresh reload of the data if needed here to ensure you have correct starting values of the assignment 03\n",
    "# classification data\n"
   ]
  },
  {
   "cell_type": "code",
   "execution_count": 22,
   "metadata": {
    "ExecuteTime": {
     "end_time": "2019-09-30T18:55:18.558596Z",
     "start_time": "2019-09-30T18:55:18.472761Z"
    }
   },
   "outputs": [],
   "source": [
    "# unlike for sklearn library, we actually have to add the dummy feature by hand to \n",
    "# represent the intercept feature, it is not assumed automatically by OLS\n",
    "# make sure you add the intercept feature column here before fitting the model.\n"
   ]
  },
  {
   "cell_type": "code",
   "execution_count": 23,
   "metadata": {},
   "outputs": [],
   "source": [
    "# create an instance of the statsmodel Logit model (you don't need MNLogit here since this is\n",
    "# a binary classification task).\n",
    "# fit your model to get a statsmodel model fit wrapper\n"
   ]
  },
  {
   "cell_type": "code",
   "execution_count": 24,
   "metadata": {},
   "outputs": [],
   "source": [
    "# display a summary of the fit of your classifier.  You might want to compare your intercept and\n",
    "# fitted coefficients again, though this time they probably won't match.\n",
    "# HINT: if you want them to match, try turning off the penality for scikit-learn.  It adds \n",
    "# a regularization penality by default, which we will learn about later in the course.\n"
   ]
  },
  {
   "cell_type": "markdown",
   "metadata": {},
   "source": [
    "As mentioned, by default the statsmodel logistic regression will add no regularization penality.  We will \n",
    "discuss regularizing ML models in the coming weeks.  Adding regularization to get a more general model is not\n",
    "a normal sort of activity one does when performing statistical analysis, so it is not an easily\n",
    "specified parameter of statsmodel objects.  But when building ML models to classify new unseen data, it \n",
    "is important to try and make the model as general and robust as possible."
   ]
  }
 ],
 "metadata": {
  "kernelspec": {
   "display_name": "python3-datasci",
   "language": "python",
   "name": "python3-datasci"
  },
  "language_info": {
   "codemirror_mode": {
    "name": "ipython",
    "version": 3
   },
   "file_extension": ".py",
   "mimetype": "text/x-python",
   "name": "python",
   "nbconvert_exporter": "python",
   "pygments_lexer": "ipython3",
   "version": "3.6.10"
  },
  "latex_envs": {
   "LaTeX_envs_menu_present": true,
   "autoclose": true,
   "autocomplete": true,
   "bibliofile": "biblio.bib",
   "cite_by": "apalike",
   "current_citInitial": 1,
   "eqLabelWithNumbers": true,
   "eqNumInitial": 1,
   "hotkeys": {
    "equation": "Ctrl-E",
    "itemize": "Ctrl-I"
   },
   "labels_anchors": false,
   "latex_user_defs": false,
   "report_style_numbering": false,
   "user_envs_cfg": false
  },
  "toc": {
   "base_numbering": 1,
   "nav_menu": {},
   "number_sections": true,
   "sideBar": true,
   "skip_h1_title": false,
   "title_cell": "Table of Contents",
   "title_sidebar": "Contents",
   "toc_cell": false,
   "toc_position": {},
   "toc_section_display": true,
   "toc_window_display": true
  },
  "varInspector": {
   "cols": {
    "lenName": 16,
    "lenType": 16,
    "lenVar": 40
   },
   "kernels_config": {
    "python": {
     "delete_cmd_postfix": "",
     "delete_cmd_prefix": "del ",
     "library": "var_list.py",
     "varRefreshCmd": "print(var_dic_list())"
    },
    "r": {
     "delete_cmd_postfix": ") ",
     "delete_cmd_prefix": "rm(",
     "library": "var_list.r",
     "varRefreshCmd": "cat(var_dic_list()) "
    }
   },
   "types_to_exclude": [
    "module",
    "function",
    "builtin_function_or_method",
    "instance",
    "_Feature"
   ],
   "window_display": false
  }
 },
 "nbformat": 4,
 "nbformat_minor": 4
}
