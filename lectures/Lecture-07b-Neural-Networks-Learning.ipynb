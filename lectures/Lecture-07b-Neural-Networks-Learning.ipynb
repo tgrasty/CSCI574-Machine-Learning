{
 "cells": [
  {
   "cell_type": "code",
   "execution_count": 1,
   "metadata": {
    "ExecuteTime": {
     "end_time": "2018-09-12T16:46:24.376234Z",
     "start_time": "2018-09-12T16:46:24.115631Z"
    }
   },
   "outputs": [],
   "source": [
    "import numpy as np\n",
    "import matplotlib.pyplot as plt\n",
    "import pandas as pd\n",
    "import matplotlib\n",
    "%matplotlib inline\n",
    "plt.rcParams['figure.figsize'] = (8, 6) # set default figure size, 8in by 6in"
   ]
  },
  {
   "cell_type": "markdown",
   "metadata": {},
   "source": [
    "# Video W5 01: Neural Network Cost Function\n",
    "\n",
    "[YouTube Video Link](https://www.youtube.com/watch?v=18X68kLAfKY&list=PLZ9qNFMHZ-A4rycgrgOYma6zxF4BZGGPW&index=51)\n",
    "\n",
    "We will be looking this week at methods to train a neural network, e.g. ways to find the set of $\\Theta$ parameters that optimize\n",
    "our network performance on a given training set.  We will be looking at multilayer networks, with usually at least 1 layer of so\n",
    "called hidden units, and a final layer of output units.  We will be doing either binary or multi-class classification with\n",
    "our networks.  For binary classification, we would simply have a single unit in the output layer, and the answer we are looking for\n",
    "is is this a positive or a negative case.  When we have $N$ multiple classes, as we already discussed, we can use a network with\n",
    "$N$ units in the output layer, and we will train such that each unit represents a particular classification.\n",
    "\n",
    "**Cost Function**\n",
    "\n",
    "The cost function we need to use for a neural network is a generalization of the cost function we used for logistic regression. \n",
    "Recall that our logistic regression cost function with the regularization term looked like this:\n",
    "\n",
    "$$\n",
    "J(\\theta) = -\\frac{1}{m} \\Big[ \\sum_{i=1}^m  y^{(i)} \\; \\textrm{log} (h_\\theta(x^{(i)})) + (1 - y^{(i)}) \\; \\textrm{log} (1 - h_\\theta(x^{(i)})) \\Big] + \\frac{\\lambda}{2m} \\sum_{j=1}^{n} \\theta_j^2\n",
    "$$\n",
    "\n",
    "The biggest change in notation for a neural network is that we need to sum up over multiple output units (for the most general\n",
    "multi-class case).  Thus, if we have $K$ output units, we sum up their individual costs:\n",
    "\n",
    "$$\n",
    "J(\\theta) = -\\frac{1}{m} \\Big[ \\sum_{i=1}^m  \\sum_{k=1}^{K} y_k^{(i)} \\; \\textrm{log} (h_\\theta(x^{(i)}))_k + (1 - y_k^{(i)}) \\; \\textrm{log} (1 - h_\\theta(x^{(i)}))_k \\Big] + \\frac{\\lambda}{2m} \\sum_{l=1}^{L-1} \\sum_{i=1}^{s_l}\\sum_{j=1}^{s_{l+1}} \\big( \\Theta_{ji}^{(l)} \\big)^2\n",
    "$$\n",
    "\n",
    "Notice also that the regularization term has become more complex.  This is because we need to add in penalities for our cost for all\n",
    "of the $\\Theta$ parameter values in all of the layers of our network."
   ]
  },
  {
   "cell_type": "markdown",
   "metadata": {},
   "source": [
    "# Video W5 02: Backpropagation Algorithm\n",
    "\n",
    "[YouTube Video Link](https://www.youtube.com/watch?v=SvAEX5taVKk&list=PLZ9qNFMHZ-A4rycgrgOYma6zxF4BZGGPW&index=52)\n",
    "\n",
    "The trick with multi-layer neural networks is calculating the partial derivative or gradient terms in the layers of the network.\n",
    "Because of the layered nature of the network, there is no direct way to calculate the partial derivatives for hidden layers.  We\n",
    "can however estimate these partial derivatives by calculating the delta or differences in our outputs at the output layer from the\n",
    "correct output.  Given these deltas, we can estimate deltas for subsequent earlier layers.  Thus backpropagation works by first\n",
    "doing a feed forward pass to calculate all of the activations for all of the units in all layers, then backpropagating the delta\n",
    "errors, wich can give us an estimate of the partial derivatives of the functions at each layer.  Don't worry too much if you don't\n",
    "follow the logic for how the backpropagation equations have been derived.  For this course, it will be sufficient to understand\n",
    "the given backpropagation equations so that you can implment them in Python code.\n",
    "\n",
    "The delta's for the output layer are computed dirrectly as simply the difference between the activiation of each unit and the\n",
    "correct answer given in our training set $y$.  For the 4 layer example network from the video, the delta's at layer $L = 4$ are\n",
    "given by:\n",
    "\n",
    "$$\n",
    "\\delta_j^{(4)} = a_j^{(4)} - y_j\n",
    "$$\n",
    "\n",
    "As you can see, this is simply the difference between the output and the correct answer for each of the $j$ output units.  Given\n",
    "these delta values for the output layer, we can estimate deltas for the 2 previous layers:\n",
    "\n",
    "$$\n",
    "\\delta_j^{(3)} = (\\Theta^{(3)})^T \\delta^{(4)} \\; .* \\; g'(z^{(3)})\n",
    "$$\n",
    "\n",
    "$$\n",
    "\\delta_j^{(2)} = (\\Theta^{(2)})^T \\delta^{(3)} \\; .* \\; g'(z^{(2)})\n",
    "$$\n",
    "\n",
    "Notice each calculation of a layer uses the delta calculated from the next higher layer.  The $g'(z)$ represents the derivative\n",
    "of the sigmoid function, which can be derived directly using calculus.  In the video the instructor uses a bit of matlab\n",
    "notation in these equations.  The $.*$ means we need to do an element wise multiplication between the left and right terms.\n",
    "The result will be deltas for each of the units in the indicated layer of the network.  These deltas can then be used directly\n",
    "as estimates of the gradient or partial derivatives, and thus can then be used in our optimization methods like gradient descent to search for the best $\\Theta$ parameters for a given network to represent a given training set of data.\n",
    "\n",
    "**Backpropagation Algorithm**\n",
    "\n",
    "Given a training set of $m$ training examples ${ (x^{(1)}, y^{(1)}), \\cdots, (x^{(m)}, y^{(m)})}$ the video next gives\n",
    "pseudo code for the basic backpropagation algorithm.  There are a lot of details here, but for all of the details it is mostly\n",
    "a matter of being comfortable with the notation.  We are using subscripts $i, j$ to denote connections or $\\Theta$ parameters\n",
    "from the $j^{th}$ unit in a previous layer to the $i^{th}$ unit in the next layer.  And we are using $l$ to indicate the layer\n",
    "number in the network.\n",
    "\n",
    "Given this notation, we create a number of matrices (denoted by capital Delta $\\Delta$, that we initially set to 0 and use\n",
    "as accumulators when computing the deltas.  The algorithm given in the video is:\n",
    "\n",
    "Set $\\Delta_{ij}^{(l)} = 0$ (for all $l, i, j$).\n",
    "\n",
    "For $i = 1 \\; \\textrm{to} \\; m$  (we iterate over each of our training examples)\n",
    "\n",
    "- Set $a^{(1)} = x^{(1)}$ and perform forward propagation to compute the activation $a^{(l)}$ for all units in all layers $l = 2, 3, ..., L$.\n",
    "- Using $y^{(i)}$ compute the delta in the output layer $\\delta^{(L)} = a^{(L)} - y^{(i)}$ \n",
    "- Backpropagate and compute the delta values in all previous layers\n",
    "- Accumulate this computed delta for input example $m$ by adding $\\Delta_{ij}^{(l)} := \\Delta_{ij}^{(l)} + a_j^{(l)} \\delta_i^{(l+1)}$\n",
    "\n",
    "Finally we can add in a regularization term for the units that don't represent bias units\n",
    "\n",
    "$$\n",
    "D_{ij}^{(l)} := \\frac{1}{m} \\Delta_{ij}^{(l)} + \\lambda \\Theta_{ij}^{(l)} \\; \\; \\textrm{if} \\; \\; j \\ne 0\n",
    "$$\n",
    "\n",
    "$$\n",
    "D_{ij}^{(l)} := \\frac{1}{m} \\Delta_{ij}^{(l)} \\;\\;\\;\\;\\;\\;\\;\\; \\textrm{if} \\; \\; j = 0\n",
    "$$\n",
    "\n",
    "And these $D$ terms can be used as approximations of the partial derivative gradients we need in order to perform an optimization\n",
    "like gradient descent on our $\\Theta$ parameters of the network:\n",
    "\n",
    "$$\n",
    "\\frac{\\partial}{\\partial \\Theta_{ij}^{(l)}} J(\\Theta) = D_{ij}^{(l)}\n",
    "$$"
   ]
  },
  {
   "cell_type": "markdown",
   "metadata": {},
   "source": [
    "# Video W5 03: Backpropagation Intuition\n",
    "\n",
    "[YouTube Video Link](https://www.youtube.com/watch?v=q1bQDyV6lsg&list=PLZ9qNFMHZ-A4rycgrgOYma6zxF4BZGGPW&index=53)\n",
    "\n"
   ]
  },
  {
   "cell_type": "markdown",
   "metadata": {},
   "source": [
    "# Video W5 04: Implementation Note: Unrolling Parameters\n",
    "\n",
    "[YouTube Video Link](https://www.youtube.com/watch?v=rcDJhGtXMvk&index=54&list=PLZ9qNFMHZ-A4rycgrgOYma6zxF4BZGGPW)\n",
    "\n",
    "Example of the unrolling/reshaping operations from the video, but in `Python`/`NumPy`"
   ]
  },
  {
   "cell_type": "code",
   "execution_count": 2,
   "metadata": {
    "ExecuteTime": {
     "end_time": "2018-09-12T16:46:24.385301Z",
     "start_time": "2018-09-12T16:46:24.377535Z"
    }
   },
   "outputs": [
    {
     "name": "stdout",
     "output_type": "stream",
     "text": [
      "[[1. 1. 1. 1. 1. 1. 1. 1. 1. 1. 1.]\n",
      " [1. 1. 1. 1. 1. 1. 1. 1. 1. 1. 1.]\n",
      " [1. 1. 1. 1. 1. 1. 1. 1. 1. 1. 1.]\n",
      " [1. 1. 1. 1. 1. 1. 1. 1. 1. 1. 1.]\n",
      " [1. 1. 1. 1. 1. 1. 1. 1. 1. 1. 1.]\n",
      " [1. 1. 1. 1. 1. 1. 1. 1. 1. 1. 1.]\n",
      " [1. 1. 1. 1. 1. 1. 1. 1. 1. 1. 1.]\n",
      " [1. 1. 1. 1. 1. 1. 1. 1. 1. 1. 1.]\n",
      " [1. 1. 1. 1. 1. 1. 1. 1. 1. 1. 1.]\n",
      " [1. 1. 1. 1. 1. 1. 1. 1. 1. 1. 1.]]\n",
      "(10, 11)\n"
     ]
    }
   ],
   "source": [
    "# example of the matrix reshaping in Python/NumPy\n",
    "Theta1 = np.ones( (10, 11) )\n",
    "print(Theta1)\n",
    "print(Theta1.shape)"
   ]
  },
  {
   "cell_type": "code",
   "execution_count": 3,
   "metadata": {
    "ExecuteTime": {
     "end_time": "2018-09-12T16:46:24.393975Z",
     "start_time": "2018-09-12T16:46:24.386592Z"
    }
   },
   "outputs": [],
   "source": [
    "Theta2 = 2 * np.ones( (10,11) )\n",
    "Theta3 = 3 * np.ones( (1, 11) )"
   ]
  },
  {
   "cell_type": "code",
   "execution_count": 4,
   "metadata": {
    "ExecuteTime": {
     "end_time": "2018-09-12T16:46:24.402305Z",
     "start_time": "2018-09-12T16:46:24.395622Z"
    }
   },
   "outputs": [
    {
     "name": "stdout",
     "output_type": "stream",
     "text": [
      "[[3.]\n",
      " [3.]\n",
      " [3.]\n",
      " [3.]\n",
      " [3.]\n",
      " [3.]\n",
      " [3.]\n",
      " [3.]\n",
      " [3.]\n",
      " [3.]\n",
      " [3.]]\n",
      "(11, 1)\n"
     ]
    }
   ],
   "source": [
    "# the matlab/octave notation Theta1(:) basically reshapes the matrix into a column vector, the\n",
    "# equivalent in NumPY is\n",
    "Theta3Col = Theta3.reshape( (Theta3.size,1) )\n",
    "print(Theta3Col)\n",
    "print(Theta3Col.shape)"
   ]
  },
  {
   "cell_type": "code",
   "execution_count": 5,
   "metadata": {
    "ExecuteTime": {
     "end_time": "2018-09-12T16:46:24.409375Z",
     "start_time": "2018-09-12T16:46:24.403826Z"
    }
   },
   "outputs": [
    {
     "name": "stdout",
     "output_type": "stream",
     "text": [
      "(231, 1)\n"
     ]
    }
   ],
   "source": [
    "# so to create the thetaVec column vector, we can do this\n",
    "thetaVec = np.concatenate((Theta1.reshape( (Theta1.size,1) ), \n",
    "                           Theta2.reshape( (Theta2.size,1) ),\n",
    "                           Theta3.reshape( (Theta3.size,1) ) ))\n",
    "print(thetaVec.shape)\n",
    "#print thetaVec"
   ]
  },
  {
   "cell_type": "code",
   "execution_count": 6,
   "metadata": {
    "ExecuteTime": {
     "end_time": "2018-09-12T16:46:24.418974Z",
     "start_time": "2018-09-12T16:46:24.410628Z"
    }
   },
   "outputs": [
    {
     "data": {
      "text/plain": [
       "array([[1., 1., 1., 1., 1., 1., 1., 1., 1., 1., 1.],\n",
       "       [1., 1., 1., 1., 1., 1., 1., 1., 1., 1., 1.],\n",
       "       [1., 1., 1., 1., 1., 1., 1., 1., 1., 1., 1.],\n",
       "       [1., 1., 1., 1., 1., 1., 1., 1., 1., 1., 1.],\n",
       "       [1., 1., 1., 1., 1., 1., 1., 1., 1., 1., 1.],\n",
       "       [1., 1., 1., 1., 1., 1., 1., 1., 1., 1., 1.],\n",
       "       [1., 1., 1., 1., 1., 1., 1., 1., 1., 1., 1.],\n",
       "       [1., 1., 1., 1., 1., 1., 1., 1., 1., 1., 1.],\n",
       "       [1., 1., 1., 1., 1., 1., 1., 1., 1., 1., 1.],\n",
       "       [1., 1., 1., 1., 1., 1., 1., 1., 1., 1., 1.]])"
      ]
     },
     "execution_count": 6,
     "metadata": {},
     "output_type": "execute_result"
    }
   ],
   "source": [
    "# to get back the theta matrices from the column vector, we can do something similar to matlab\n",
    "# get the Theta1 values back to a 10x11 matrix, note we use 0 based indexing in NumPy arrays\n",
    "np.reshape(thetaVec[0:110], (10, 11) )"
   ]
  },
  {
   "cell_type": "code",
   "execution_count": 7,
   "metadata": {
    "ExecuteTime": {
     "end_time": "2018-09-12T16:46:24.427186Z",
     "start_time": "2018-09-12T16:46:24.420455Z"
    }
   },
   "outputs": [
    {
     "data": {
      "text/plain": [
       "array([[2., 2., 2., 2., 2., 2., 2., 2., 2., 2., 2.],\n",
       "       [2., 2., 2., 2., 2., 2., 2., 2., 2., 2., 2.],\n",
       "       [2., 2., 2., 2., 2., 2., 2., 2., 2., 2., 2.],\n",
       "       [2., 2., 2., 2., 2., 2., 2., 2., 2., 2., 2.],\n",
       "       [2., 2., 2., 2., 2., 2., 2., 2., 2., 2., 2.],\n",
       "       [2., 2., 2., 2., 2., 2., 2., 2., 2., 2., 2.],\n",
       "       [2., 2., 2., 2., 2., 2., 2., 2., 2., 2., 2.],\n",
       "       [2., 2., 2., 2., 2., 2., 2., 2., 2., 2., 2.],\n",
       "       [2., 2., 2., 2., 2., 2., 2., 2., 2., 2., 2.],\n",
       "       [2., 2., 2., 2., 2., 2., 2., 2., 2., 2., 2.]])"
      ]
     },
     "execution_count": 7,
     "metadata": {},
     "output_type": "execute_result"
    }
   ],
   "source": [
    "np.reshape(thetaVec[110:220], (10, 11) )"
   ]
  },
  {
   "cell_type": "code",
   "execution_count": 8,
   "metadata": {
    "ExecuteTime": {
     "end_time": "2018-09-12T16:46:24.434376Z",
     "start_time": "2018-09-12T16:46:24.428192Z"
    }
   },
   "outputs": [
    {
     "data": {
      "text/plain": [
       "array([[3., 3., 3., 3., 3., 3., 3., 3., 3., 3., 3.]])"
      ]
     },
     "execution_count": 8,
     "metadata": {},
     "output_type": "execute_result"
    }
   ],
   "source": [
    "np.reshape(thetaVec[220:231], (1,11) )"
   ]
  },
  {
   "cell_type": "markdown",
   "metadata": {},
   "source": [
    "# Video W5 05: Gradient Checking\n",
    "\n",
    "[YouTube Video Link](https://www.youtube.com/watch?v=I-X8_EcGYik&index=55&list=PLZ9qNFMHZ-A4rycgrgOYma6zxF4BZGGPW)\n",
    "\n",
    "This is a method that helps to debug any gradient descent or optimization methods for backpropagation.  If you introduce subtle bugs in computing\n",
    "the cost or gradient values that are used in an optimization method, the optimization can appear to be working.  However, you\n",
    "can end up with not truly optimal parameters that you would get if your calculation of cost and gradient were completely 100%\n",
    "correct.  The method shown in this video can be used to check that the result you get after optimization is actually the\n",
    "best one possible, and thus that you are computing the cost and gradients correctly.\n",
    "\n",
    "This method is based on approximating the gradient or partial derivative, using the difference of the function at 2 points\n",
    "that are close together (based on the definition of the derivative of a function at a point).\n",
    "\n",
    "If the approximate method of calculating the partial derivative is close to the computed $D$ values, then probably the\n",
    "implementation is correct.  Where close is defined as being the same to some number of decimal places, for example.\n",
    "\n",
    "Here is a very simple example of calculating the gradient (the derivative) using this numerical approximation.  Suppose\n",
    "you have \n",
    "\n",
    "$$\n",
    "J(\\theta) = \\theta^3\n",
    "$$\n",
    "\n",
    "Furthermore let $\\theta = 1.0$ and $\\epsilon = 0.01$.  We can use the formula for two sided difference for approximating the derivative\n",
    "\n",
    "$$\n",
    "\\frac{J(\\theta + \\epsilon) - J(\\theta - \\epsilon)}{2 \\epsilon}\n",
    "$$\n",
    "\n",
    "to approximate the derivative.  The true derivative using analytic methods for this function at the point $\\theta = 1$ is\n",
    "\n",
    "$$\n",
    "\\frac{d}{d \\theta} J(\\theta) = 3 \\theta^2 = 3\n",
    "$$"
   ]
  },
  {
   "cell_type": "code",
   "execution_count": 9,
   "metadata": {
    "ExecuteTime": {
     "end_time": "2018-09-12T16:46:24.447726Z",
     "start_time": "2018-09-12T16:46:24.443524Z"
    }
   },
   "outputs": [
    {
     "name": "stdout",
     "output_type": "stream",
     "text": [
      "3.0001000000000055\n"
     ]
    }
   ],
   "source": [
    "theta = 1.0\n",
    "epsilon = 0.01\n",
    "\n",
    "def J(theta):\n",
    "    return theta**3.0\n",
    "\n",
    "dtheta = ( J(theta + epsilon) - J(theta - epsilon) ) / (2.0 * epsilon)\n",
    "print(dtheta)"
   ]
  },
  {
   "cell_type": "markdown",
   "metadata": {},
   "source": [
    "# Video W5 06: Random Initialization\n",
    "\n",
    "[YouTube Video Link](https://www.youtube.com/watch?v=NhgB6FLyHJc&list=PLZ9qNFMHZ-A4rycgrgOYma6zxF4BZGGPW&index=56)\n",
    "\n",
    "Unlike before in logistic regression, there is a problem with setting the initial values for theta to 0 when using\n",
    "backpropagation.  All of the activations (and all of the delta values) will be the same for all inputs given an initial\n",
    "theta that is all 0's.  \n",
    "\n",
    "A simple way to get around this is to initialize all of the theta paramters to small random values, around 0.  The\n",
    "eqivalent way to create random Theta1, Theta2, etc. matrices of the right shape in NumPy is:"
   ]
  },
  {
   "cell_type": "code",
   "execution_count": 10,
   "metadata": {
    "ExecuteTime": {
     "end_time": "2018-09-12T16:46:24.475069Z",
     "start_time": "2018-09-12T16:46:24.470223Z"
    }
   },
   "outputs": [
    {
     "name": "stdout",
     "output_type": "stream",
     "text": [
      "[[-3.12454680e-03  8.32004498e-03 -9.19365115e-03  3.33899996e-03\n",
      "   8.27828660e-04 -9.84614110e-03 -1.99638783e-03 -8.60932238e-03\n",
      "  -5.07014197e-03  4.67045349e-03 -6.34834815e-03]\n",
      " [ 4.52380522e-03  1.93205547e-03  8.31113968e-03 -9.91601304e-03\n",
      "   2.80061488e-03  3.49869980e-03  7.22324685e-03 -2.69626347e-04\n",
      "   5.57494574e-03  7.89761575e-03  7.25841850e-03]\n",
      " [-4.91499035e-03  5.64222426e-03  2.62512161e-03 -5.86958493e-03\n",
      "   5.85540193e-04 -4.28655265e-03  9.84538695e-03  2.19330834e-04\n",
      "  -7.09549344e-03  5.75257918e-03  6.77862673e-04]\n",
      " [-4.65847800e-03 -6.36570137e-03  1.21693034e-03 -4.01396900e-04\n",
      "   3.76659162e-03 -4.94888821e-03 -5.06458896e-03 -6.46419376e-03\n",
      "  -8.38951427e-03 -8.16099014e-03 -8.67199744e-03]\n",
      " [ 6.85606924e-03  4.88624278e-03  7.42659692e-03 -1.13437851e-03\n",
      "  -3.01197701e-03  7.42765040e-03  5.02011390e-03 -7.87864795e-03\n",
      "   1.75535621e-03 -4.31894087e-03  1.72692587e-05]\n",
      " [-3.28671085e-03 -6.69195768e-03 -9.21326953e-03  5.43986409e-03\n",
      "   3.24819052e-03  3.65861430e-03  8.48389117e-03  6.08161622e-03\n",
      "  -4.57357210e-03 -3.29853867e-03  4.23795857e-03]\n",
      " [-4.48185410e-03 -3.72571698e-03  6.91503133e-03 -6.72348272e-03\n",
      "  -3.82058852e-03 -1.78489356e-03  6.86118216e-03  2.02444685e-03\n",
      "  -4.12514693e-03  1.57058336e-03 -6.17363320e-03]\n",
      " [ 1.48982556e-03  1.73312465e-03  8.72701754e-03 -9.69675828e-03\n",
      "   2.91475708e-03  9.97311782e-03 -9.58886026e-03  5.91876341e-03\n",
      "  -6.57635567e-03  2.16775991e-03  9.97509815e-03]\n",
      " [-7.15457659e-04  3.26082794e-03  5.25377985e-03  4.64256250e-03\n",
      "   5.63968260e-03 -6.77219896e-03  6.20658549e-03 -7.57012824e-03\n",
      "  -8.69169074e-03  9.78125748e-03 -2.41353530e-03]\n",
      " [-5.99351198e-03 -6.87242443e-03 -4.15840969e-03  1.84615335e-03\n",
      "  -2.15324709e-03 -9.58270766e-03 -7.07787270e-03 -3.49729334e-03\n",
      "  -3.74792571e-05  8.08609560e-03  3.57931743e-04]]\n"
     ]
    }
   ],
   "source": [
    "INIT_EPSILON = 0.01\n",
    "Theta1 = np.random.uniform(-INIT_EPSILON, INIT_EPSILON, (10, 11) )\n",
    "print(Theta1)"
   ]
  },
  {
   "cell_type": "markdown",
   "metadata": {},
   "source": [
    "# Video W5 07: Putting it Together\n",
    "\n",
    "[YouTube Video Link](https://www.youtube.com/watch?v=T7-ZsYlFH4M&list=PLZ9qNFMHZ-A4rycgrgOYma6zxF4BZGGPW&index=57)\n",
    "\n"
   ]
  },
  {
   "cell_type": "markdown",
   "metadata": {},
   "source": [
    "# Video W5 08: Autonomous Driving\n",
    "\n",
    "[YouTube Video Link](https://www.youtube.com/watch?v=WkmplH50K1k&index=58&list=PLZ9qNFMHZ-A4rycgrgOYma6zxF4BZGGPW)\n"
   ]
  },
  {
   "cell_type": "code",
   "execution_count": 11,
   "metadata": {
    "ExecuteTime": {
     "end_time": "2018-09-12T16:46:24.586448Z",
     "start_time": "2018-09-12T16:46:24.519019Z"
    }
   },
   "outputs": [
    {
     "name": "stdout",
     "output_type": "stream",
     "text": [
      "              Module   Versions\n",
      "--------------------   ------------------------------------------------------------\n",
      "         matplotlib:   ['3.2.2']\n",
      "              numpy:   ['1.18.5']\n",
      "             pandas:   ['1.0.5']\n"
     ]
    }
   ],
   "source": [
    "import sys\n",
    "sys.path.append(\"../src\") # add our class modules to the system PYTHON_PATH\n",
    "\n",
    "from ml_python_class.custom_funcs import version_information\n",
    "version_information()"
   ]
  }
 ],
 "metadata": {
  "kernelspec": {
   "display_name": "python3-datasci",
   "language": "python",
   "name": "python3-datasci"
  },
  "language_info": {
   "codemirror_mode": {
    "name": "ipython",
    "version": 3
   },
   "file_extension": ".py",
   "mimetype": "text/x-python",
   "name": "python",
   "nbconvert_exporter": "python",
   "pygments_lexer": "ipython3",
   "version": "3.7.7"
  },
  "toc": {
   "base_numbering": 1,
   "nav_menu": {},
   "number_sections": true,
   "sideBar": true,
   "skip_h1_title": false,
   "title_cell": "Table of Contents",
   "title_sidebar": "Contents",
   "toc_cell": false,
   "toc_position": {},
   "toc_section_display": true,
   "toc_window_display": false
  },
  "varInspector": {
   "cols": {
    "lenName": 16,
    "lenType": 16,
    "lenVar": 40
   },
   "kernels_config": {
    "python": {
     "delete_cmd_postfix": "",
     "delete_cmd_prefix": "del ",
     "library": "var_list.py",
     "varRefreshCmd": "print(var_dic_list())"
    },
    "r": {
     "delete_cmd_postfix": ") ",
     "delete_cmd_prefix": "rm(",
     "library": "var_list.r",
     "varRefreshCmd": "cat(var_dic_list()) "
    }
   },
   "types_to_exclude": [
    "module",
    "function",
    "builtin_function_or_method",
    "instance",
    "_Feature"
   ],
   "window_display": false
  }
 },
 "nbformat": 4,
 "nbformat_minor": 4
}
